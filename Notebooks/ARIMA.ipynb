{
 "cells": [
  {
   "cell_type": "markdown",
   "metadata": {},
   "source": [
    "# Filling NaN values using ARIMA"
   ]
  },
  {
   "cell_type": "code",
   "execution_count": 1,
   "metadata": {},
   "outputs": [],
   "source": [
    "import pandas as pd\n",
    "import numpy as np\n",
    "import pmdarima as pm\n",
    "\n",
    "S = pd.read_csv('../Data/States.csv', header = [0, 1], index_col = 0)\n",
    "D = pd.read_csv('../Data/Districts.csv', header = [0, 1], index_col = 0)"
   ]
  },
  {
   "cell_type": "markdown",
   "metadata": {},
   "source": [
    "Based on observations, We can subset ourselves to analysis of the years from 2015 to 2019.<br>\n",
    "Which reduces the amount of NaN values for us to fill up."
   ]
  },
  {
   "cell_type": "code",
   "execution_count": 2,
   "metadata": {},
   "outputs": [],
   "source": [
    "S = S[[str(i) for i in range(2005, 2020)]]"
   ]
  },
  {
   "cell_type": "code",
   "execution_count": 3,
   "metadata": {},
   "outputs": [],
   "source": [
    "D = D[[str(i) for i in range(2005, 2020)]]"
   ]
  },
  {
   "cell_type": "code",
   "execution_count": 4,
   "metadata": {
    "scrolled": true
   },
   "outputs": [
    {
     "data": {
      "text/plain": [
       "Year  Monsoon\n",
       "2005  Pre        3.795926\n",
       "      Post       3.795926\n",
       "2006  Pre        3.795926\n",
       "      Post       3.795926\n",
       "2007  Pre        4.228889\n",
       "      Post       3.485714\n",
       "2008  Pre        3.983333\n",
       "      Post       2.810313\n",
       "2009  Pre        3.174375\n",
       "      Post       3.215000\n",
       "2010  Pre        3.215000\n",
       "      Post       4.205694\n",
       "2011  Pre        6.006389\n",
       "      Post       6.006389\n",
       "2012  Pre        6.006389\n",
       "      Post       4.340556\n",
       "2013  Pre        4.977500\n",
       "      Post       4.950000\n",
       "2014  Pre        4.362500\n",
       "      Post       4.362500\n",
       "2015  Pre        4.553889\n",
       "      Post       3.728611\n",
       "2016  Pre        4.733611\n",
       "      Post       3.149583\n",
       "2017  Pre        3.377361\n",
       "      Post       3.193472\n",
       "2018  Pre        3.193472\n",
       "      Post       3.347500\n",
       "2019  Pre        3.405625\n",
       "      Post       4.398333\n",
       "Name: Nagaland, dtype: float64"
      ]
     },
     "execution_count": 4,
     "metadata": {},
     "output_type": "execute_result"
    }
   ],
   "source": [
    "S.loc['Nagaland']"
   ]
  },
  {
   "cell_type": "code",
   "execution_count": 5,
   "metadata": {},
   "outputs": [],
   "source": [
    "S.loc['Nagaland']['2006']['Post'] = S.loc['Nagaland']['2005']['Post']"
   ]
  },
  {
   "cell_type": "code",
   "execution_count": 6,
   "metadata": {},
   "outputs": [],
   "source": [
    "S.to_csv('../Data/States.csv')"
   ]
  },
  {
   "cell_type": "code",
   "execution_count": 7,
   "metadata": {
    "scrolled": true
   },
   "outputs": [
    {
     "data": {
      "text/plain": [
       "Jharkhand_Latehar                0\n",
       "Jharkhand_Lohardaga              0\n",
       "Jharkhand_Pakur                  0\n",
       "Jharkhand_Palamu                 0\n",
       "Jharkhand_Pashchimi Singhbhum    0\n",
       "Karnataka_Koppal                 0\n",
       "Jharkhand_Purbi Singhbhum        0\n",
       "Jharkhand_Ranchi                 0\n",
       "Jharkhand_Sahibganj              0\n",
       "Jharkhand_Saraikela-kharsawan    0\n",
       "Jharkhand_Simdega                0\n",
       "Karnataka_Bagalkot               0\n",
       "Karnataka_Bangalore              0\n",
       "Jharkhand_Ramgarh                0\n",
       "Nct Of Delhi                     0\n",
       "dtype: int64"
      ]
     },
     "execution_count": 7,
     "metadata": {},
     "output_type": "execute_result"
    }
   ],
   "source": [
    "D.isna().sum(axis = 1).sort_values().tail(15)"
   ]
  },
  {
   "cell_type": "code",
   "execution_count": 8,
   "metadata": {},
   "outputs": [],
   "source": [
    "ds = list(D.isna().sum(axis = 1).sort_values().tail(14).index)"
   ]
  },
  {
   "cell_type": "markdown",
   "metadata": {},
   "source": [
    "As we can see, there are only 14 Districts with NaN values. <br>We need to devise suitable filler techniques to fill in the NaN values."
   ]
  },
  {
   "cell_type": "code",
   "execution_count": 9,
   "metadata": {},
   "outputs": [
    {
     "data": {
      "text/html": [
       "<div>\n",
       "<style scoped>\n",
       "    .dataframe tbody tr th:only-of-type {\n",
       "        vertical-align: middle;\n",
       "    }\n",
       "\n",
       "    .dataframe tbody tr th {\n",
       "        vertical-align: top;\n",
       "    }\n",
       "\n",
       "    .dataframe thead th {\n",
       "        text-align: right;\n",
       "    }\n",
       "</style>\n",
       "<table border=\"1\" class=\"dataframe\">\n",
       "  <thead>\n",
       "    <tr style=\"text-align: right;\">\n",
       "      <th></th>\n",
       "      <th></th>\n",
       "      <th>Jharkhand_Lohardaga</th>\n",
       "      <th>Jharkhand_Pakur</th>\n",
       "      <th>Jharkhand_Palamu</th>\n",
       "      <th>Jharkhand_Pashchimi Singhbhum</th>\n",
       "      <th>Karnataka_Koppal</th>\n",
       "      <th>Jharkhand_Purbi Singhbhum</th>\n",
       "      <th>Jharkhand_Ranchi</th>\n",
       "      <th>Jharkhand_Sahibganj</th>\n",
       "      <th>Jharkhand_Saraikela-kharsawan</th>\n",
       "      <th>Jharkhand_Simdega</th>\n",
       "      <th>Karnataka_Bagalkot</th>\n",
       "      <th>Karnataka_Bangalore</th>\n",
       "      <th>Jharkhand_Ramgarh</th>\n",
       "      <th>Nct Of Delhi</th>\n",
       "    </tr>\n",
       "    <tr>\n",
       "      <th>Year</th>\n",
       "      <th>Monsoon</th>\n",
       "      <th></th>\n",
       "      <th></th>\n",
       "      <th></th>\n",
       "      <th></th>\n",
       "      <th></th>\n",
       "      <th></th>\n",
       "      <th></th>\n",
       "      <th></th>\n",
       "      <th></th>\n",
       "      <th></th>\n",
       "      <th></th>\n",
       "      <th></th>\n",
       "      <th></th>\n",
       "      <th></th>\n",
       "    </tr>\n",
       "  </thead>\n",
       "  <tbody>\n",
       "    <tr>\n",
       "      <th rowspan=\"2\" valign=\"top\">2005</th>\n",
       "      <th>Pre</th>\n",
       "      <td>6.756667</td>\n",
       "      <td>7.420000</td>\n",
       "      <td>8.670769</td>\n",
       "      <td>6.72750</td>\n",
       "      <td>9.020370</td>\n",
       "      <td>10.533846</td>\n",
       "      <td>7.923333</td>\n",
       "      <td>7.617143</td>\n",
       "      <td>8.483333</td>\n",
       "      <td>7.154286</td>\n",
       "      <td>11.433333</td>\n",
       "      <td>11.949565</td>\n",
       "      <td>5.792</td>\n",
       "      <td>10.916882</td>\n",
       "    </tr>\n",
       "    <tr>\n",
       "      <th>Post</th>\n",
       "      <td>4.846667</td>\n",
       "      <td>4.741429</td>\n",
       "      <td>7.010769</td>\n",
       "      <td>4.16750</td>\n",
       "      <td>8.352143</td>\n",
       "      <td>5.499231</td>\n",
       "      <td>5.081333</td>\n",
       "      <td>6.975714</td>\n",
       "      <td>5.120000</td>\n",
       "      <td>4.428571</td>\n",
       "      <td>10.492069</td>\n",
       "      <td>10.447727</td>\n",
       "      <td>4.316</td>\n",
       "      <td>10.448077</td>\n",
       "    </tr>\n",
       "    <tr>\n",
       "      <th rowspan=\"2\" valign=\"top\">2006</th>\n",
       "      <th>Pre</th>\n",
       "      <td>7.000000</td>\n",
       "      <td>6.281429</td>\n",
       "      <td>7.587692</td>\n",
       "      <td>6.93750</td>\n",
       "      <td>9.514815</td>\n",
       "      <td>9.240000</td>\n",
       "      <td>6.262000</td>\n",
       "      <td>7.232857</td>\n",
       "      <td>8.066667</td>\n",
       "      <td>6.460000</td>\n",
       "      <td>10.425517</td>\n",
       "      <td>11.364762</td>\n",
       "      <td>5.718</td>\n",
       "      <td>11.204151</td>\n",
       "    </tr>\n",
       "    <tr>\n",
       "      <th>Post</th>\n",
       "      <td>3.273333</td>\n",
       "      <td>3.021429</td>\n",
       "      <td>5.496923</td>\n",
       "      <td>3.86250</td>\n",
       "      <td>8.512593</td>\n",
       "      <td>4.602308</td>\n",
       "      <td>3.429333</td>\n",
       "      <td>2.915714</td>\n",
       "      <td>3.438333</td>\n",
       "      <td>3.685714</td>\n",
       "      <td>9.460690</td>\n",
       "      <td>12.038636</td>\n",
       "      <td>3.222</td>\n",
       "      <td>10.736681</td>\n",
       "    </tr>\n",
       "    <tr>\n",
       "      <th rowspan=\"2\" valign=\"top\">2007</th>\n",
       "      <th>Pre</th>\n",
       "      <td>7.828333</td>\n",
       "      <td>7.407143</td>\n",
       "      <td>7.134615</td>\n",
       "      <td>5.87875</td>\n",
       "      <td>9.693333</td>\n",
       "      <td>9.862308</td>\n",
       "      <td>6.740000</td>\n",
       "      <td>8.674286</td>\n",
       "      <td>8.333333</td>\n",
       "      <td>6.400000</td>\n",
       "      <td>9.896552</td>\n",
       "      <td>12.760455</td>\n",
       "      <td>6.750</td>\n",
       "      <td>11.564304</td>\n",
       "    </tr>\n",
       "    <tr>\n",
       "      <th>Post</th>\n",
       "      <td>3.145000</td>\n",
       "      <td>5.040000</td>\n",
       "      <td>4.421538</td>\n",
       "      <td>3.60625</td>\n",
       "      <td>7.531852</td>\n",
       "      <td>3.915385</td>\n",
       "      <td>3.081333</td>\n",
       "      <td>2.915714</td>\n",
       "      <td>5.406667</td>\n",
       "      <td>3.722857</td>\n",
       "      <td>7.579667</td>\n",
       "      <td>12.239545</td>\n",
       "      <td>5.842</td>\n",
       "      <td>11.373361</td>\n",
       "    </tr>\n",
       "    <tr>\n",
       "      <th rowspan=\"2\" valign=\"top\">2008</th>\n",
       "      <th>Pre</th>\n",
       "      <td>6.465000</td>\n",
       "      <td>6.848571</td>\n",
       "      <td>7.953077</td>\n",
       "      <td>6.05750</td>\n",
       "      <td>8.180357</td>\n",
       "      <td>8.760769</td>\n",
       "      <td>7.030000</td>\n",
       "      <td>6.461429</td>\n",
       "      <td>7.866667</td>\n",
       "      <td>5.947143</td>\n",
       "      <td>9.824333</td>\n",
       "      <td>13.635455</td>\n",
       "      <td>7.540</td>\n",
       "      <td>11.832150</td>\n",
       "    </tr>\n",
       "    <tr>\n",
       "      <th>Post</th>\n",
       "      <td>4.075000</td>\n",
       "      <td>4.532857</td>\n",
       "      <td>4.979231</td>\n",
       "      <td>3.93375</td>\n",
       "      <td>7.506429</td>\n",
       "      <td>3.900000</td>\n",
       "      <td>4.200667</td>\n",
       "      <td>4.805000</td>\n",
       "      <td>4.323333</td>\n",
       "      <td>3.437143</td>\n",
       "      <td>8.145667</td>\n",
       "      <td>11.008261</td>\n",
       "      <td>5.200</td>\n",
       "      <td>11.172885</td>\n",
       "    </tr>\n",
       "    <tr>\n",
       "      <th rowspan=\"2\" valign=\"top\">2009</th>\n",
       "      <th>Pre</th>\n",
       "      <td>7.598333</td>\n",
       "      <td>6.535714</td>\n",
       "      <td>7.484615</td>\n",
       "      <td>6.31250</td>\n",
       "      <td>8.898929</td>\n",
       "      <td>10.234615</td>\n",
       "      <td>6.715333</td>\n",
       "      <td>5.911250</td>\n",
       "      <td>7.171667</td>\n",
       "      <td>7.007143</td>\n",
       "      <td>9.561667</td>\n",
       "      <td>12.911667</td>\n",
       "      <td>6.632</td>\n",
       "      <td>12.007952</td>\n",
       "    </tr>\n",
       "    <tr>\n",
       "      <th>Post</th>\n",
       "      <td>5.391667</td>\n",
       "      <td>5.151429</td>\n",
       "      <td>6.992308</td>\n",
       "      <td>3.85750</td>\n",
       "      <td>6.646786</td>\n",
       "      <td>5.213077</td>\n",
       "      <td>4.066667</td>\n",
       "      <td>4.515000</td>\n",
       "      <td>4.321667</td>\n",
       "      <td>4.605714</td>\n",
       "      <td>5.721333</td>\n",
       "      <td>11.812083</td>\n",
       "      <td>4.812</td>\n",
       "      <td>11.320349</td>\n",
       "    </tr>\n",
       "  </tbody>\n",
       "</table>\n",
       "</div>"
      ],
      "text/plain": [
       "              Jharkhand_Lohardaga  Jharkhand_Pakur  Jharkhand_Palamu  \\\n",
       "Year Monsoon                                                           \n",
       "2005 Pre                 6.756667         7.420000          8.670769   \n",
       "     Post                4.846667         4.741429          7.010769   \n",
       "2006 Pre                 7.000000         6.281429          7.587692   \n",
       "     Post                3.273333         3.021429          5.496923   \n",
       "2007 Pre                 7.828333         7.407143          7.134615   \n",
       "     Post                3.145000         5.040000          4.421538   \n",
       "2008 Pre                 6.465000         6.848571          7.953077   \n",
       "     Post                4.075000         4.532857          4.979231   \n",
       "2009 Pre                 7.598333         6.535714          7.484615   \n",
       "     Post                5.391667         5.151429          6.992308   \n",
       "\n",
       "              Jharkhand_Pashchimi Singhbhum  Karnataka_Koppal  \\\n",
       "Year Monsoon                                                    \n",
       "2005 Pre                            6.72750          9.020370   \n",
       "     Post                           4.16750          8.352143   \n",
       "2006 Pre                            6.93750          9.514815   \n",
       "     Post                           3.86250          8.512593   \n",
       "2007 Pre                            5.87875          9.693333   \n",
       "     Post                           3.60625          7.531852   \n",
       "2008 Pre                            6.05750          8.180357   \n",
       "     Post                           3.93375          7.506429   \n",
       "2009 Pre                            6.31250          8.898929   \n",
       "     Post                           3.85750          6.646786   \n",
       "\n",
       "              Jharkhand_Purbi Singhbhum  Jharkhand_Ranchi  \\\n",
       "Year Monsoon                                                \n",
       "2005 Pre                      10.533846          7.923333   \n",
       "     Post                      5.499231          5.081333   \n",
       "2006 Pre                       9.240000          6.262000   \n",
       "     Post                      4.602308          3.429333   \n",
       "2007 Pre                       9.862308          6.740000   \n",
       "     Post                      3.915385          3.081333   \n",
       "2008 Pre                       8.760769          7.030000   \n",
       "     Post                      3.900000          4.200667   \n",
       "2009 Pre                      10.234615          6.715333   \n",
       "     Post                      5.213077          4.066667   \n",
       "\n",
       "              Jharkhand_Sahibganj  Jharkhand_Saraikela-kharsawan  \\\n",
       "Year Monsoon                                                       \n",
       "2005 Pre                 7.617143                       8.483333   \n",
       "     Post                6.975714                       5.120000   \n",
       "2006 Pre                 7.232857                       8.066667   \n",
       "     Post                2.915714                       3.438333   \n",
       "2007 Pre                 8.674286                       8.333333   \n",
       "     Post                2.915714                       5.406667   \n",
       "2008 Pre                 6.461429                       7.866667   \n",
       "     Post                4.805000                       4.323333   \n",
       "2009 Pre                 5.911250                       7.171667   \n",
       "     Post                4.515000                       4.321667   \n",
       "\n",
       "              Jharkhand_Simdega  Karnataka_Bagalkot  Karnataka_Bangalore  \\\n",
       "Year Monsoon                                                               \n",
       "2005 Pre               7.154286           11.433333            11.949565   \n",
       "     Post              4.428571           10.492069            10.447727   \n",
       "2006 Pre               6.460000           10.425517            11.364762   \n",
       "     Post              3.685714            9.460690            12.038636   \n",
       "2007 Pre               6.400000            9.896552            12.760455   \n",
       "     Post              3.722857            7.579667            12.239545   \n",
       "2008 Pre               5.947143            9.824333            13.635455   \n",
       "     Post              3.437143            8.145667            11.008261   \n",
       "2009 Pre               7.007143            9.561667            12.911667   \n",
       "     Post              4.605714            5.721333            11.812083   \n",
       "\n",
       "              Jharkhand_Ramgarh  Nct Of Delhi  \n",
       "Year Monsoon                                   \n",
       "2005 Pre                  5.792     10.916882  \n",
       "     Post                 4.316     10.448077  \n",
       "2006 Pre                  5.718     11.204151  \n",
       "     Post                 3.222     10.736681  \n",
       "2007 Pre                  6.750     11.564304  \n",
       "     Post                 5.842     11.373361  \n",
       "2008 Pre                  7.540     11.832150  \n",
       "     Post                 5.200     11.172885  \n",
       "2009 Pre                  6.632     12.007952  \n",
       "     Post                 4.812     11.320349  "
      ]
     },
     "execution_count": 9,
     "metadata": {},
     "output_type": "execute_result"
    }
   ],
   "source": [
    "D.loc[ds].T.head(10)"
   ]
  },
  {
   "cell_type": "markdown",
   "metadata": {},
   "source": [
    "As we can see above, the NaN values at the bottom can be filled using ARIMA forecasting.<br>\n",
    "Which can be done only after the values at the start of the period are filled using mean for no previous values and ffill for the other ones as we see many static values through these periods."
   ]
  },
  {
   "cell_type": "code",
   "execution_count": 10,
   "metadata": {},
   "outputs": [],
   "source": [
    "def arima(ser, no_of_p = 1):\n",
    "    arima_series = pm.auto_arima(\n",
    "        y = ser,\n",
    "        start_p = 0,\n",
    "        max_p = 2,\n",
    "        d = 1,\n",
    "        start_q = 0,\n",
    "        max_q = 2,\n",
    "        trace = False,\n",
    "        seasonal = False,\n",
    "        error_action = 'ignore',\n",
    "        suppress_warnings = True\n",
    "    )\n",
    "    return list(arima_series.predict(n_periods = no_of_p))"
   ]
  },
  {
   "cell_type": "markdown",
   "metadata": {},
   "source": [
    "The above function uses ARIMA to predict a number of values based on the given values."
   ]
  },
  {
   "cell_type": "code",
   "execution_count": 11,
   "metadata": {
    "scrolled": true
   },
   "outputs": [
    {
     "data": {
      "text/plain": [
       "Year  Monsoon\n",
       "2005  Pre        6.756667\n",
       "      Post       4.846667\n",
       "2006  Pre        7.000000\n",
       "      Post       3.273333\n",
       "2007  Pre        7.828333\n",
       "      Post       3.145000\n",
       "2008  Pre        6.465000\n",
       "      Post       4.075000\n",
       "2009  Pre        7.598333\n",
       "      Post       5.391667\n",
       "2010  Pre        7.723333\n",
       "      Post       5.745000\n",
       "2011  Pre        8.112000\n",
       "      Post       3.936000\n",
       "2012  Pre        7.306000\n",
       "      Post       4.998000\n",
       "2013  Pre        6.696667\n",
       "      Post       3.581667\n",
       "2014  Pre        5.571667\n",
       "      Post       6.273333\n",
       "2015  Pre        3.055000\n",
       "      Post       5.245000\n",
       "2016  Pre        6.851667\n",
       "      Post       3.120000\n",
       "2017  Pre        7.710000\n",
       "      Post       3.360000\n",
       "2018  Pre        7.410000\n",
       "      Post       3.780000\n",
       "2019  Pre        7.820000\n",
       "      Post       4.660000\n",
       "Name: Jharkhand_Lohardaga, dtype: float64"
      ]
     },
     "execution_count": 11,
     "metadata": {},
     "output_type": "execute_result"
    }
   ],
   "source": [
    "D.loc[ds[0]]"
   ]
  },
  {
   "cell_type": "code",
   "execution_count": 12,
   "metadata": {
    "scrolled": false
   },
   "outputs": [
    {
     "data": {
      "text/plain": [
       "[6.756666666666668,\n",
       " 7.0,\n",
       " 7.828333333333334,\n",
       " 6.465,\n",
       " 7.598333333333333,\n",
       " 7.723333333333333,\n",
       " 8.112,\n",
       " 7.306,\n",
       " 6.696666666666667,\n",
       " 5.571666666666667,\n",
       " 3.055]"
      ]
     },
     "execution_count": 12,
     "metadata": {},
     "output_type": "execute_result"
    }
   ],
   "source": [
    "list(D.loc[ds[0]].iloc[:-8:2])"
   ]
  },
  {
   "cell_type": "code",
   "execution_count": 13,
   "metadata": {
    "scrolled": true
   },
   "outputs": [
    {
     "name": "stdout",
     "output_type": "stream",
     "text": [
      "[3.055]\n"
     ]
    },
    {
     "data": {
      "text/plain": [
       "3.055"
      ]
     },
     "execution_count": 13,
     "metadata": {},
     "output_type": "execute_result"
    }
   ],
   "source": [
    "pred = arima(list(D.loc[ds[0]].iloc[:-8:2]))\n",
    "print(pred)\n",
    "D.loc[ds[0]]['2016']['Pre'] = pred[0]\n",
    "D.loc[ds[0]]['2016']['Pre']"
   ]
  },
  {
   "cell_type": "code",
   "execution_count": 14,
   "metadata": {
    "scrolled": true
   },
   "outputs": [
    {
     "data": {
      "text/plain": [
       "Year  Monsoon\n",
       "2005  Pre        6.756667\n",
       "      Post       4.846667\n",
       "2006  Pre        7.000000\n",
       "      Post       3.273333\n",
       "2007  Pre        7.828333\n",
       "      Post       3.145000\n",
       "2008  Pre        6.465000\n",
       "      Post       4.075000\n",
       "2009  Pre        7.598333\n",
       "      Post       5.391667\n",
       "2010  Pre        7.723333\n",
       "      Post       5.745000\n",
       "2011  Pre        8.112000\n",
       "      Post       3.936000\n",
       "2012  Pre        7.306000\n",
       "      Post       4.998000\n",
       "2013  Pre        6.696667\n",
       "      Post       3.581667\n",
       "2014  Pre        5.571667\n",
       "      Post       6.273333\n",
       "2015  Pre        3.055000\n",
       "      Post       5.245000\n",
       "2016  Pre        3.055000\n",
       "      Post       3.120000\n",
       "2017  Pre        7.710000\n",
       "      Post       3.360000\n",
       "2018  Pre        7.410000\n",
       "      Post       3.780000\n",
       "2019  Pre        7.820000\n",
       "      Post       4.660000\n",
       "Name: Jharkhand_Lohardaga, dtype: float64"
      ]
     },
     "execution_count": 14,
     "metadata": {},
     "output_type": "execute_result"
    }
   ],
   "source": [
    "D.loc[ds[0]]"
   ]
  },
  {
   "cell_type": "code",
   "execution_count": 15,
   "metadata": {
    "scrolled": true
   },
   "outputs": [
    {
     "data": {
      "text/plain": [
       "Year  Monsoon\n",
       "2005  Pre        7.420000\n",
       "      Post       4.741429\n",
       "2006  Pre        6.281429\n",
       "      Post       3.021429\n",
       "2007  Pre        7.407143\n",
       "      Post       5.040000\n",
       "2008  Pre        6.848571\n",
       "      Post       4.532857\n",
       "2009  Pre        6.535714\n",
       "      Post       5.151429\n",
       "2010  Pre        7.572857\n",
       "      Post       4.080000\n",
       "2011  Pre        7.638571\n",
       "      Post       4.531429\n",
       "2012  Pre        7.372857\n",
       "      Post       7.372857\n",
       "2013  Pre        7.651429\n",
       "      Post       3.454286\n",
       "2014  Pre        5.551429\n",
       "      Post       4.868571\n",
       "2015  Pre        6.191429\n",
       "      Post       5.110000\n",
       "2016  Pre        7.827143\n",
       "      Post       4.851429\n",
       "2017  Pre        6.608571\n",
       "      Post       4.578571\n",
       "2018  Pre        6.070000\n",
       "      Post       3.574286\n",
       "2019  Pre        7.080000\n",
       "      Post       3.615714\n",
       "Name: Jharkhand_Pakur, dtype: float64"
      ]
     },
     "execution_count": 15,
     "metadata": {},
     "output_type": "execute_result"
    }
   ],
   "source": [
    "D.loc[ds[1]]"
   ]
  },
  {
   "cell_type": "code",
   "execution_count": 16,
   "metadata": {},
   "outputs": [
    {
     "data": {
      "text/plain": [
       "5.04"
      ]
     },
     "execution_count": 16,
     "metadata": {},
     "output_type": "execute_result"
    }
   ],
   "source": [
    "D.loc[ds[1]]['2008']['Post'] = D.loc[ds[1]]['2007']['Post']\n",
    "D.loc[ds[1]]['2008']['Post']"
   ]
  },
  {
   "cell_type": "markdown",
   "metadata": {},
   "source": [
    "We assigned the previous value to the nan value present in 2008 because the values have been static until this Post Monsoon season."
   ]
  },
  {
   "cell_type": "code",
   "execution_count": 17,
   "metadata": {
    "scrolled": true
   },
   "outputs": [
    {
     "data": {
      "text/plain": [
       "Year  Monsoon\n",
       "2005  Pre         8.670769\n",
       "      Post        7.010769\n",
       "2006  Pre         7.587692\n",
       "      Post        5.496923\n",
       "2007  Pre         7.134615\n",
       "      Post        4.421538\n",
       "2008  Pre         7.953077\n",
       "      Post        4.979231\n",
       "2009  Pre         7.484615\n",
       "      Post        6.992308\n",
       "2010  Pre         9.879231\n",
       "      Post        8.724615\n",
       "2011  Pre        10.540000\n",
       "      Post        6.622308\n",
       "2012  Pre         9.047692\n",
       "      Post        5.505385\n",
       "2013  Pre         6.313077\n",
       "      Post        6.266154\n",
       "2014  Pre         9.252308\n",
       "      Post        6.982308\n",
       "2015  Pre         7.071538\n",
       "      Post        6.765385\n",
       "2016  Pre         8.312308\n",
       "      Post        4.626923\n",
       "2017  Pre         8.859231\n",
       "      Post        5.257692\n",
       "2018  Pre         8.274615\n",
       "      Post        4.840000\n",
       "2019  Pre         9.868462\n",
       "      Post        6.037692\n",
       "Name: Jharkhand_Palamu, dtype: float64"
      ]
     },
     "execution_count": 17,
     "metadata": {},
     "output_type": "execute_result"
    }
   ],
   "source": [
    "D.loc[ds[2]]"
   ]
  },
  {
   "cell_type": "code",
   "execution_count": 18,
   "metadata": {},
   "outputs": [
    {
     "data": {
      "text/plain": [
       "7.134615384615384"
      ]
     },
     "execution_count": 18,
     "metadata": {},
     "output_type": "execute_result"
    }
   ],
   "source": [
    "D.loc[ds[2]]['2008']['Pre'] = D.loc[ds[2]]['2007']['Pre']\n",
    "D.loc[ds[2]]['2008']['Pre']"
   ]
  },
  {
   "cell_type": "code",
   "execution_count": 19,
   "metadata": {
    "scrolled": true
   },
   "outputs": [
    {
     "data": {
      "text/plain": [
       "Year  Monsoon\n",
       "2005  Pre        6.727500\n",
       "      Post       4.167500\n",
       "2006  Pre        6.937500\n",
       "      Post       3.862500\n",
       "2007  Pre        5.878750\n",
       "      Post       3.606250\n",
       "2008  Pre        6.057500\n",
       "      Post       3.933750\n",
       "2009  Pre        6.312500\n",
       "      Post       3.857500\n",
       "2010  Pre        7.512500\n",
       "      Post       6.220000\n",
       "2011  Pre        7.715000\n",
       "      Post       3.226250\n",
       "2012  Pre        7.806250\n",
       "      Post       3.432500\n",
       "2013  Pre        7.231250\n",
       "      Post       2.060000\n",
       "2014  Pre        6.982500\n",
       "      Post       4.093750\n",
       "2015  Pre        7.416250\n",
       "      Post       5.326250\n",
       "2016  Pre        7.350000\n",
       "      Post       3.686250\n",
       "2017  Pre        7.993750\n",
       "      Post       4.116250\n",
       "2018  Pre        6.566250\n",
       "      Post       2.787143\n",
       "2019  Pre        6.398571\n",
       "      Post       3.762500\n",
       "Name: Jharkhand_Pashchimi Singhbhum, dtype: float64"
      ]
     },
     "execution_count": 19,
     "metadata": {},
     "output_type": "execute_result"
    }
   ],
   "source": [
    "D.loc[ds[3]]"
   ]
  },
  {
   "cell_type": "code",
   "execution_count": 20,
   "metadata": {},
   "outputs": [
    {
     "name": "stdout",
     "output_type": "stream",
     "text": [
      "[7.41625]\n"
     ]
    },
    {
     "data": {
      "text/plain": [
       "7.41625"
      ]
     },
     "execution_count": 20,
     "metadata": {},
     "output_type": "execute_result"
    }
   ],
   "source": [
    "pred = arima(list(D.loc[ds[3]].iloc[:-8:2]))\n",
    "print(pred)\n",
    "D.loc[ds[3]]['2016']['Pre'] = pred[0]\n",
    "D.loc[ds[3]]['2016']['Pre']"
   ]
  },
  {
   "cell_type": "code",
   "execution_count": 21,
   "metadata": {
    "scrolled": true
   },
   "outputs": [
    {
     "data": {
      "text/plain": [
       "Year  Monsoon\n",
       "2005  Pre         9.020370\n",
       "      Post        8.352143\n",
       "2006  Pre         9.514815\n",
       "      Post        8.512593\n",
       "2007  Pre         9.693333\n",
       "      Post        7.531852\n",
       "2008  Pre         8.180357\n",
       "      Post        7.506429\n",
       "2009  Pre         8.898929\n",
       "      Post        6.646786\n",
       "2010  Pre         6.785000\n",
       "      Post        5.380357\n",
       "2011  Pre         7.638571\n",
       "      Post        7.435926\n",
       "2012  Pre         8.764074\n",
       "      Post        8.216296\n",
       "2013  Pre        11.579643\n",
       "      Post       10.166786\n",
       "2014  Pre        11.083571\n",
       "      Post        8.683929\n",
       "2015  Pre         9.061786\n",
       "      Post        8.929630\n",
       "2016  Pre         9.882222\n",
       "      Post        7.194783\n",
       "2017  Pre         8.899565\n",
       "      Post        6.823478\n",
       "2018  Pre         7.546522\n",
       "      Post        8.273913\n",
       "2019  Pre         8.495500\n",
       "      Post        6.504000\n",
       "Name: Karnataka_Koppal, dtype: float64"
      ]
     },
     "execution_count": 21,
     "metadata": {},
     "output_type": "execute_result"
    }
   ],
   "source": [
    "D.loc[ds[4]]"
   ]
  },
  {
   "cell_type": "code",
   "execution_count": 22,
   "metadata": {},
   "outputs": [
    {
     "data": {
      "text/plain": [
       "8.352142857142857"
      ]
     },
     "execution_count": 22,
     "metadata": {},
     "output_type": "execute_result"
    }
   ],
   "source": [
    "D.loc[ds[4]]['2006']['Post'] = D.loc[ds[4]]['2005']['Post']\n",
    "\n",
    "D.loc[ds[4]]['2006']['Post'] "
   ]
  },
  {
   "cell_type": "code",
   "execution_count": 23,
   "metadata": {
    "scrolled": true
   },
   "outputs": [
    {
     "data": {
      "text/plain": [
       "Year  Monsoon\n",
       "2005  Pre        10.533846\n",
       "      Post        5.499231\n",
       "2006  Pre         9.240000\n",
       "      Post        4.602308\n",
       "2007  Pre         9.862308\n",
       "      Post        3.915385\n",
       "2008  Pre         8.760769\n",
       "      Post        3.900000\n",
       "2009  Pre        10.234615\n",
       "      Post        5.213077\n",
       "2010  Pre         9.460000\n",
       "      Post        7.428462\n",
       "2011  Pre         9.593077\n",
       "      Post        4.099231\n",
       "2012  Pre         9.076923\n",
       "      Post        5.950000\n",
       "2013  Pre         9.925385\n",
       "      Post        1.992308\n",
       "2014  Pre         7.660000\n",
       "      Post        4.650769\n",
       "2015  Pre         7.131538\n",
       "      Post        5.234615\n",
       "2016  Pre         8.573846\n",
       "      Post        5.658462\n",
       "2017  Pre         9.241667\n",
       "      Post        5.790000\n",
       "2018  Pre         8.199000\n",
       "      Post        3.701000\n",
       "2019  Pre         7.076667\n",
       "      Post        2.916667\n",
       "Name: Jharkhand_Purbi Singhbhum, dtype: float64"
      ]
     },
     "execution_count": 23,
     "metadata": {},
     "output_type": "execute_result"
    }
   ],
   "source": [
    "D.loc[ds[5]]"
   ]
  },
  {
   "cell_type": "code",
   "execution_count": 24,
   "metadata": {},
   "outputs": [
    {
     "data": {
      "text/plain": [
       "5.499230769230769"
      ]
     },
     "execution_count": 24,
     "metadata": {},
     "output_type": "execute_result"
    }
   ],
   "source": [
    "D.loc[ds[5]]['2006']['Post'] = D.loc[ds[5]]['2005']['Post']\n",
    "D.loc[ds[5]]['2006']['Post'] "
   ]
  },
  {
   "cell_type": "code",
   "execution_count": 25,
   "metadata": {},
   "outputs": [
    {
     "name": "stdout",
     "output_type": "stream",
     "text": [
      "[4.690283620991382]\n"
     ]
    },
    {
     "data": {
      "text/plain": [
       "4.690283620991382"
      ]
     },
     "execution_count": 25,
     "metadata": {},
     "output_type": "execute_result"
    }
   ],
   "source": [
    "pred = arima(list(D.loc[ds[5]].iloc[1:-2:2]))\n",
    "print(pred)\n",
    "\n",
    "D.loc[ds[5]]['2019']['Post'] = pred[0]\n",
    "\n",
    "D.loc[ds[5]]['2019']['Post']"
   ]
  },
  {
   "cell_type": "code",
   "execution_count": 26,
   "metadata": {
    "scrolled": true
   },
   "outputs": [
    {
     "data": {
      "text/plain": [
       "Year  Monsoon\n",
       "2005  Pre        7.923333\n",
       "      Post       5.081333\n",
       "2006  Pre        6.262000\n",
       "      Post       3.429333\n",
       "2007  Pre        6.740000\n",
       "      Post       3.081333\n",
       "2008  Pre        7.030000\n",
       "      Post       4.200667\n",
       "2009  Pre        6.715333\n",
       "      Post       4.066667\n",
       "2010  Pre        7.544667\n",
       "      Post       6.119286\n",
       "2011  Pre        8.059286\n",
       "      Post       3.941429\n",
       "2012  Pre        7.563571\n",
       "      Post       4.150667\n",
       "2013  Pre        7.007333\n",
       "      Post       3.287333\n",
       "2014  Pre        6.450000\n",
       "      Post       4.362000\n",
       "2015  Pre        6.295333\n",
       "      Post       5.043333\n",
       "2016  Pre        6.636667\n",
       "      Post       3.494286\n",
       "2017  Pre        5.576429\n",
       "      Post       4.127143\n",
       "2018  Pre        5.213571\n",
       "      Post       4.802857\n",
       "2019  Pre        8.310000\n",
       "      Post       3.008333\n",
       "Name: Jharkhand_Ranchi, dtype: float64"
      ]
     },
     "execution_count": 26,
     "metadata": {},
     "output_type": "execute_result"
    }
   ],
   "source": [
    "D.loc[ds[6]]"
   ]
  },
  {
   "cell_type": "code",
   "execution_count": 27,
   "metadata": {},
   "outputs": [
    {
     "data": {
      "text/plain": [
       "Year  Monsoon\n",
       "2005  Pre        7.923333\n",
       "2006  Pre        6.262000\n",
       "2007  Pre        6.740000\n",
       "2008  Pre        7.030000\n",
       "2009  Pre        6.715333\n",
       "2010  Pre        7.544667\n",
       "2011  Pre        8.059286\n",
       "2012  Pre        7.563571\n",
       "2013  Pre        7.007333\n",
       "2014  Pre        6.450000\n",
       "2015  Pre        6.295333\n",
       "2016  Pre        6.636667\n",
       "2017  Pre        5.576429\n",
       "2018  Pre        5.213571\n",
       "Name: Jharkhand_Ranchi, dtype: float64"
      ]
     },
     "execution_count": 27,
     "metadata": {},
     "output_type": "execute_result"
    }
   ],
   "source": [
    "D.loc[ds[6]].iloc[:-3:2]"
   ]
  },
  {
   "cell_type": "code",
   "execution_count": 28,
   "metadata": {},
   "outputs": [
    {
     "name": "stdout",
     "output_type": "stream",
     "text": [
      "[4.160481224536654]\n"
     ]
    },
    {
     "data": {
      "text/plain": [
       "4.160481224536654"
      ]
     },
     "execution_count": 28,
     "metadata": {},
     "output_type": "execute_result"
    }
   ],
   "source": [
    "pred = arima(list(D.loc[ds[6]].iloc[1:-3:2]))\n",
    "print(pred)\n",
    "\n",
    "D.loc[ds[6]]['2019']['Pre'] = pred[0]\n",
    "D.loc[ds[6]]['2019']['Pre'] "
   ]
  },
  {
   "cell_type": "code",
   "execution_count": 29,
   "metadata": {},
   "outputs": [
    {
     "name": "stdout",
     "output_type": "stream",
     "text": [
      "[4.160481224536654, 4.1572005084152535]\n"
     ]
    },
    {
     "data": {
      "text/plain": [
       "Year  Monsoon\n",
       "2018  Pre        5.213571\n",
       "      Post       4.160481\n",
       "2019  Pre        4.160481\n",
       "      Post       4.157201\n",
       "Name: Jharkhand_Ranchi, dtype: float64"
      ]
     },
     "execution_count": 29,
     "metadata": {},
     "output_type": "execute_result"
    }
   ],
   "source": [
    "pred = arima(list(D.loc[ds[6]].iloc[1:-3:2]), no_of_p = 2)\n",
    "print(pred)\n",
    "\n",
    "D.loc[ds[6]].iloc[1:-3:2]\n",
    "\n",
    "D.loc[ds[6]]['2018']['Post'] = pred[0]\n",
    "D.loc[ds[6]]['2019']['Post'] = pred[1]\n",
    "D.loc[ds[6]][['2018', '2019']]"
   ]
  },
  {
   "cell_type": "code",
   "execution_count": 30,
   "metadata": {
    "scrolled": true
   },
   "outputs": [
    {
     "data": {
      "text/plain": [
       "Year  Monsoon\n",
       "2005  Pre        7.617143\n",
       "      Post       6.975714\n",
       "2006  Pre        7.232857\n",
       "      Post       2.915714\n",
       "2007  Pre        8.674286\n",
       "      Post       2.915714\n",
       "2008  Pre        6.461429\n",
       "      Post       4.805000\n",
       "2009  Pre        5.911250\n",
       "      Post       4.515000\n",
       "2010  Pre        6.393750\n",
       "      Post       3.618750\n",
       "2011  Pre        5.920000\n",
       "      Post       3.321250\n",
       "2012  Pre        7.381250\n",
       "      Post       8.200000\n",
       "2013  Pre        7.532857\n",
       "      Post       4.018571\n",
       "2014  Pre        5.094286\n",
       "      Post       4.300000\n",
       "2015  Pre        4.887500\n",
       "      Post       3.487500\n",
       "2016  Pre        6.675000\n",
       "      Post       4.583750\n",
       "2017  Pre        6.960000\n",
       "      Post       3.913750\n",
       "2018  Pre        6.116250\n",
       "      Post       3.721250\n",
       "2019  Pre        6.303750\n",
       "      Post       2.544286\n",
       "Name: Jharkhand_Sahibganj, dtype: float64"
      ]
     },
     "execution_count": 30,
     "metadata": {},
     "output_type": "execute_result"
    }
   ],
   "source": [
    "D.loc[ds[7]]"
   ]
  },
  {
   "cell_type": "code",
   "execution_count": 31,
   "metadata": {},
   "outputs": [
    {
     "name": "stdout",
     "output_type": "stream",
     "text": [
      "[4.210256589689471]\n",
      "[4.210256589689471, 4.1790767071377015]\n"
     ]
    },
    {
     "data": {
      "text/plain": [
       "Year  Monsoon\n",
       "2018  Pre        6.116250\n",
       "      Post       4.210257\n",
       "2019  Pre        4.210257\n",
       "      Post       4.179077\n",
       "Name: Jharkhand_Sahibganj, dtype: float64"
      ]
     },
     "execution_count": 31,
     "metadata": {},
     "output_type": "execute_result"
    }
   ],
   "source": [
    "pred = arima(list(D.loc[ds[7]].iloc[1:-3:2]))\n",
    "print(pred)\n",
    "\n",
    "D.loc[ds[7]]['2019']['Pre'] = pred[0]\n",
    "pred = arima(list(D.loc[ds[7]].iloc[1:-3:2]), no_of_p = 2)\n",
    "print(pred)\n",
    "\n",
    "D.loc[ds[7]].iloc[1:-3:2]\n",
    "\n",
    "D.loc[ds[7]]['2018']['Post'] = pred[0]\n",
    "D.loc[ds[7]]['2019']['Post'] = pred[1]\n",
    "D.loc[ds[7]][['2018', '2019']]"
   ]
  },
  {
   "cell_type": "code",
   "execution_count": 32,
   "metadata": {
    "scrolled": true
   },
   "outputs": [
    {
     "data": {
      "text/plain": [
       "Year  Monsoon\n",
       "2005  Pre        8.483333\n",
       "      Post       5.120000\n",
       "2006  Pre        8.066667\n",
       "      Post       3.438333\n",
       "2007  Pre        8.333333\n",
       "      Post       5.406667\n",
       "2008  Pre        7.866667\n",
       "      Post       4.323333\n",
       "2009  Pre        7.171667\n",
       "      Post       4.321667\n",
       "2010  Pre        8.420000\n",
       "      Post       5.866667\n",
       "2011  Pre        8.258333\n",
       "      Post       3.883333\n",
       "2012  Pre        8.371667\n",
       "      Post       5.731667\n",
       "2013  Pre        7.408333\n",
       "      Post       1.615000\n",
       "2014  Pre        7.130000\n",
       "      Post       4.141667\n",
       "2015  Pre        7.000000\n",
       "      Post       5.255000\n",
       "2016  Pre        7.135000\n",
       "      Post       4.828333\n",
       "2017  Pre        7.770000\n",
       "      Post       4.766667\n",
       "2018  Pre        6.530000\n",
       "      Post       3.436667\n",
       "2019  Pre        7.828333\n",
       "      Post       4.375000\n",
       "Name: Jharkhand_Saraikela-kharsawan, dtype: float64"
      ]
     },
     "execution_count": 32,
     "metadata": {},
     "output_type": "execute_result"
    }
   ],
   "source": [
    "D.loc[ds[8]]"
   ]
  },
  {
   "cell_type": "code",
   "execution_count": 33,
   "metadata": {},
   "outputs": [
    {
     "data": {
      "text/plain": [
       "Monsoon\n",
       "Pre     7.718222\n",
       "Post    4.434000\n",
       "Name: Jharkhand_Saraikela-kharsawan, dtype: float64"
      ]
     },
     "execution_count": 33,
     "metadata": {},
     "output_type": "execute_result"
    }
   ],
   "source": [
    "D.loc[ds[8]]['2005']['Pre'] = np.nanmean(D.loc[ds[8]].iloc[::2])\n",
    "D.loc[ds[8]]['2005']['Post'] = np.nanmean(D.loc[ds[8]].iloc[1::2])\n",
    "D.loc[ds[8]]['2005']"
   ]
  },
  {
   "cell_type": "code",
   "execution_count": 34,
   "metadata": {},
   "outputs": [
    {
     "name": "stdout",
     "output_type": "stream",
     "text": [
      "[7.0178866493303484]\n",
      "[4.2422586409086875]\n"
     ]
    },
    {
     "data": {
      "text/plain": [
       "Monsoon\n",
       "Pre     7.017887\n",
       "Post    4.242259\n",
       "Name: Jharkhand_Saraikela-kharsawan, dtype: float64"
      ]
     },
     "execution_count": 34,
     "metadata": {},
     "output_type": "execute_result"
    }
   ],
   "source": [
    "pred = arima(list(D.loc[ds[8]].iloc[:-2:2]))\n",
    "print(pred)\n",
    "\n",
    "D.loc[ds[8]]['2019']['Pre'] = pred[0]\n",
    "pred = arima(list(D.loc[ds[8]].iloc[1:-2:2]))\n",
    "print(pred)\n",
    "\n",
    "D.loc[ds[8]]['2019']['Post'] = pred[0]\n",
    "D.loc[ds[8]]['2019']"
   ]
  },
  {
   "cell_type": "code",
   "execution_count": 35,
   "metadata": {
    "scrolled": true
   },
   "outputs": [
    {
     "data": {
      "text/plain": [
       "Year  Monsoon\n",
       "2005  Pre        7.154286\n",
       "      Post       4.428571\n",
       "2006  Pre        6.460000\n",
       "      Post       3.685714\n",
       "2007  Pre        6.400000\n",
       "      Post       3.722857\n",
       "2008  Pre        5.947143\n",
       "      Post       3.437143\n",
       "2009  Pre        7.007143\n",
       "      Post       4.605714\n",
       "2010  Pre        7.131429\n",
       "      Post       5.172857\n",
       "2011  Pre        7.090000\n",
       "      Post       4.330000\n",
       "2012  Pre        6.652857\n",
       "      Post       4.784286\n",
       "2013  Pre        6.412857\n",
       "      Post       3.434286\n",
       "2014  Pre        5.271429\n",
       "      Post       3.968571\n",
       "2015  Pre        3.057143\n",
       "      Post       4.785714\n",
       "2016  Pre        6.462857\n",
       "      Post       3.144286\n",
       "2017  Pre        7.114286\n",
       "      Post       3.100000\n",
       "2018  Pre        6.385714\n",
       "      Post       3.592857\n",
       "2019  Pre        7.081429\n",
       "      Post       2.311429\n",
       "Name: Jharkhand_Simdega, dtype: float64"
      ]
     },
     "execution_count": 35,
     "metadata": {},
     "output_type": "execute_result"
    }
   ],
   "source": [
    "D.loc[ds[9]]"
   ]
  },
  {
   "cell_type": "code",
   "execution_count": 36,
   "metadata": {},
   "outputs": [
    {
     "name": "stdout",
     "output_type": "stream",
     "text": [
      "[6.652857142857143, 6.652857142857143]\n",
      "[4.784285714285714, 4.784285714285714]\n"
     ]
    },
    {
     "data": {
      "text/plain": [
       "Year  Monsoon\n",
       "2013  Pre        6.652857\n",
       "      Post       4.784286\n",
       "2014  Pre        6.652857\n",
       "      Post       4.784286\n",
       "Name: Jharkhand_Simdega, dtype: float64"
      ]
     },
     "execution_count": 36,
     "metadata": {},
     "output_type": "execute_result"
    }
   ],
   "source": [
    "pred = arima(list(D.loc[ds[9]].iloc[:-14:2]), no_of_p = 2)\n",
    "print(pred)\n",
    "\n",
    "D.loc[ds[9]]['2013']['Pre'] = pred[0]\n",
    "D.loc[ds[9]]['2014']['Pre'] = pred[1]\n",
    "pred = arima(list(D.loc[ds[9]].iloc[1:-14:2]), no_of_p = 2)\n",
    "print(pred)\n",
    "\n",
    "D.loc[ds[9]]['2013']['Post'] = pred[0]\n",
    "D.loc[ds[9]]['2014']['Post'] = pred[1]\n",
    "D.loc[ds[9]][['2013', '2014']]"
   ]
  },
  {
   "cell_type": "code",
   "execution_count": 37,
   "metadata": {
    "scrolled": true
   },
   "outputs": [
    {
     "data": {
      "text/plain": [
       "Year  Monsoon\n",
       "2005  Pre        11.433333\n",
       "      Post       10.492069\n",
       "2006  Pre        10.425517\n",
       "      Post        9.460690\n",
       "2007  Pre         9.896552\n",
       "      Post        7.579667\n",
       "2008  Pre         9.824333\n",
       "      Post        8.145667\n",
       "2009  Pre         9.561667\n",
       "      Post        5.721333\n",
       "2010  Pre         7.837000\n",
       "      Post        6.438333\n",
       "2011  Pre         9.518333\n",
       "      Post        8.855172\n",
       "2012  Pre        11.233704\n",
       "      Post       10.542222\n",
       "2013  Pre        11.351034\n",
       "      Post        8.561379\n",
       "2014  Pre        10.259655\n",
       "      Post        9.719655\n",
       "2015  Pre        11.103571\n",
       "      Post       10.412593\n",
       "2016  Pre        12.247778\n",
       "      Post       11.349565\n",
       "2017  Pre        11.502727\n",
       "      Post        7.777000\n",
       "2018  Pre         9.080526\n",
       "      Post        8.325238\n",
       "2019  Pre         9.310500\n",
       "      Post        6.906500\n",
       "Name: Karnataka_Bagalkot, dtype: float64"
      ]
     },
     "execution_count": 37,
     "metadata": {},
     "output_type": "execute_result"
    }
   ],
   "source": [
    "D.loc[ds[10]]"
   ]
  },
  {
   "cell_type": "code",
   "execution_count": 38,
   "metadata": {},
   "outputs": [
    {
     "data": {
      "text/plain": [
       "Year  Monsoon\n",
       "2005  Pre        10.305749\n",
       "      Post        8.685806\n",
       "2006  Pre        10.305749\n",
       "      Post        8.685806\n",
       "Name: Karnataka_Bagalkot, dtype: float64"
      ]
     },
     "execution_count": 38,
     "metadata": {},
     "output_type": "execute_result"
    }
   ],
   "source": [
    "avgr = np.nanmean(D.loc[ds[10]].iloc[::2])\n",
    "avgo = np.nanmean(D.loc[ds[10]].iloc[1::2])\n",
    "D.loc[ds[10]]['2005']['Pre'] = avgr\n",
    "D.loc[ds[10]]['2005']['Post'] = avgo\n",
    "D.loc[ds[10]]['2006']['Pre'] = avgr\n",
    "D.loc[ds[10]]['2006']['Post'] = avgo\n",
    "D.loc[ds[10]][['2005', '2006']]"
   ]
  },
  {
   "cell_type": "code",
   "execution_count": 39,
   "metadata": {},
   "outputs": [
    {
     "name": "stdout",
     "output_type": "stream",
     "text": [
      "[8.325238095238094]\n"
     ]
    },
    {
     "data": {
      "text/plain": [
       "8.325238095238094"
      ]
     },
     "execution_count": 39,
     "metadata": {},
     "output_type": "execute_result"
    }
   ],
   "source": [
    "pred = arima(list(D.loc[ds[10]].iloc[1:-2:2]))\n",
    "print(pred)\n",
    "D.loc[ds[10]]['2019']['Post'] = pred[0]\n",
    "D.loc[ds[10]]['2019']['Post']"
   ]
  },
  {
   "cell_type": "code",
   "execution_count": 40,
   "metadata": {
    "scrolled": true
   },
   "outputs": [
    {
     "data": {
      "text/plain": [
       "Year  Monsoon\n",
       "2005  Pre        11.949565\n",
       "      Post       10.447727\n",
       "2006  Pre        11.364762\n",
       "      Post       12.038636\n",
       "2007  Pre        12.760455\n",
       "      Post       12.239545\n",
       "2008  Pre        13.635455\n",
       "      Post       11.008261\n",
       "2009  Pre        12.911667\n",
       "      Post       11.812083\n",
       "2010  Pre        13.343333\n",
       "      Post       12.487500\n",
       "2011  Pre        13.325833\n",
       "      Post       12.627391\n",
       "2012  Pre        13.920909\n",
       "      Post       16.080455\n",
       "2013  Pre        18.034783\n",
       "      Post       15.829091\n",
       "2014  Pre        16.877727\n",
       "      Post       14.057826\n",
       "2015  Pre        14.832174\n",
       "      Post       14.244783\n",
       "2016  Pre        14.428696\n",
       "      Post       16.062632\n",
       "2017  Pre        16.167895\n",
       "      Post       11.162632\n",
       "2018  Pre        15.957368\n",
       "      Post       14.930526\n",
       "2019  Pre        18.962222\n",
       "      Post       15.413889\n",
       "Name: Karnataka_Bangalore, dtype: float64"
      ]
     },
     "execution_count": 40,
     "metadata": {},
     "output_type": "execute_result"
    }
   ],
   "source": [
    "D.loc[ds[11]]"
   ]
  },
  {
   "cell_type": "code",
   "execution_count": 41,
   "metadata": {},
   "outputs": [
    {
     "data": {
      "text/plain": [
       "Year  Monsoon\n",
       "2005  Pre        11.949565\n",
       "      Post       10.447727\n",
       "2006  Pre        11.364762\n",
       "      Post       10.447727\n",
       "2007  Pre        11.949565\n",
       "      Post       11.949565\n",
       "2008  Pre        11.949565\n",
       "      Post       11.008261\n",
       "Name: Karnataka_Bangalore, dtype: float64"
      ]
     },
     "execution_count": 41,
     "metadata": {},
     "output_type": "execute_result"
    }
   ],
   "source": [
    "D.loc[ds[11]]['2007']['Pre'] = D.loc[ds[11]]['2005']['Pre']\n",
    "D.loc[ds[11]]['2006']['Post'] = D.loc[ds[11]]['2005']['Post']\n",
    "D.loc[ds[11]]['2008']['Pre'] = D.loc[ds[11]]['2005']['Pre']\n",
    "D.loc[ds[11]]['2007']['Post'] = D.loc[ds[11]]['2005']['Pre']\n",
    "D.loc[ds[11]].head(8)"
   ]
  },
  {
   "cell_type": "code",
   "execution_count": 42,
   "metadata": {},
   "outputs": [
    {
     "name": "stdout",
     "output_type": "stream",
     "text": [
      "[15.563105713609705]\n"
     ]
    },
    {
     "data": {
      "text/plain": [
       "15.563105713609705"
      ]
     },
     "execution_count": 42,
     "metadata": {},
     "output_type": "execute_result"
    }
   ],
   "source": [
    "pred = arima(list(D.loc[ds[11]].iloc[1:-2:2]))\n",
    "print(pred)\n",
    "D.loc[ds[11]]['2019']['Post'] = pred[0]\n",
    "D.loc[ds[11]]['2019']['Post']"
   ]
  },
  {
   "cell_type": "code",
   "execution_count": 43,
   "metadata": {
    "scrolled": true
   },
   "outputs": [
    {
     "data": {
      "text/plain": [
       "Year  Monsoon\n",
       "2005  Post       4.316\n",
       "2006  Post       3.222\n",
       "2007  Post       5.842\n",
       "2008  Post       5.200\n",
       "2009  Post       4.812\n",
       "2010  Post       7.030\n",
       "2011  Post       3.910\n",
       "2012  Post       4.880\n",
       "2013  Post       4.236\n",
       "2014  Post       4.194\n",
       "Name: Jharkhand_Ramgarh, dtype: float64"
      ]
     },
     "execution_count": 43,
     "metadata": {},
     "output_type": "execute_result"
    }
   ],
   "source": [
    "D.loc[ds[12]].iloc[1:-10:2]"
   ]
  },
  {
   "cell_type": "code",
   "execution_count": 44,
   "metadata": {
    "scrolled": true
   },
   "outputs": [
    {
     "name": "stdout",
     "output_type": "stream",
     "text": [
      "[5.064, 5.064, 5.064, 5.064, 5.064]\n",
      "[4.748722315551895, 4.745909026177488, 4.743095736803081, 4.740282447428674, 4.737469158054267]\n"
     ]
    },
    {
     "data": {
      "text/plain": [
       "Year  Monsoon\n",
       "2015  Pre        5.064000\n",
       "      Post       4.748722\n",
       "2016  Pre        5.064000\n",
       "      Post       4.745909\n",
       "2017  Pre        5.064000\n",
       "      Post       4.743096\n",
       "2018  Pre        5.064000\n",
       "      Post       4.740282\n",
       "2019  Pre        5.064000\n",
       "      Post       4.737469\n",
       "Name: Jharkhand_Ramgarh, dtype: float64"
      ]
     },
     "execution_count": 44,
     "metadata": {},
     "output_type": "execute_result"
    }
   ],
   "source": [
    "pred = arima(list(D.loc[ds[12]].iloc[:-10:2]), no_of_p = 5)\n",
    "print(pred)\n",
    "for i in range(5):\n",
    "    D.loc[ds[12]][str(2015 + i)]['Pre'] = pred[i]\n",
    "pred = arima(list(D.loc[ds[12]].iloc[1:-10:2]), no_of_p = 5)\n",
    "print(pred)\n",
    "for i in range(5):\n",
    "    D.loc[ds[12]][str(2015 + i)]['Post'] = pred[i]\n",
    "D.loc[ds[12]].tail(10)"
   ]
  },
  {
   "cell_type": "code",
   "execution_count": 45,
   "metadata": {
    "scrolled": true
   },
   "outputs": [
    {
     "data": {
      "text/plain": [
       "Year  Monsoon\n",
       "2005  Pre        10.916882\n",
       "      Post       10.448077\n",
       "2006  Pre        11.204151\n",
       "      Post       10.736681\n",
       "2007  Pre        11.564304\n",
       "      Post       11.373361\n",
       "2008  Pre        11.832150\n",
       "      Post       11.172885\n",
       "2009  Pre        12.007952\n",
       "      Post       11.320349\n",
       "2010  Pre        12.866799\n",
       "      Post       10.627150\n",
       "2011  Pre        11.591267\n",
       "      Post       11.549803\n",
       "2012  Pre        12.123784\n",
       "      Post       11.950637\n",
       "2013  Pre        12.660098\n",
       "      Post       11.635926\n",
       "2014  Pre        12.629065\n",
       "      Post       12.981733\n",
       "2015  Pre        12.795311\n",
       "      Post       12.331303\n",
       "2016  Pre        13.107287\n",
       "      Post       12.442290\n",
       "2017  Pre        21.711944\n",
       "      Post       20.796031\n",
       "2018  Pre        18.087802\n",
       "      Post       17.719895\n",
       "2019  Pre        17.643864\n",
       "      Post       17.458293\n",
       "Name: Nct Of Delhi, dtype: float64"
      ]
     },
     "execution_count": 45,
     "metadata": {},
     "output_type": "execute_result"
    }
   ],
   "source": [
    "D.loc[ds[13]] = D.loc[ds[13]].fillna(method = 'ffill')\n",
    "D.loc[ds[13]]"
   ]
  },
  {
   "cell_type": "code",
   "execution_count": 46,
   "metadata": {},
   "outputs": [
    {
     "data": {
      "text/html": [
       "<div>\n",
       "<style scoped>\n",
       "    .dataframe tbody tr th:only-of-type {\n",
       "        vertical-align: middle;\n",
       "    }\n",
       "\n",
       "    .dataframe tbody tr th {\n",
       "        vertical-align: top;\n",
       "    }\n",
       "\n",
       "    .dataframe thead th {\n",
       "        text-align: right;\n",
       "    }\n",
       "</style>\n",
       "<table border=\"1\" class=\"dataframe\">\n",
       "  <thead>\n",
       "    <tr style=\"text-align: right;\">\n",
       "      <th></th>\n",
       "      <th></th>\n",
       "      <th>Jharkhand_Lohardaga</th>\n",
       "      <th>Jharkhand_Pakur</th>\n",
       "      <th>Jharkhand_Palamu</th>\n",
       "      <th>Jharkhand_Pashchimi Singhbhum</th>\n",
       "      <th>Karnataka_Koppal</th>\n",
       "      <th>Jharkhand_Purbi Singhbhum</th>\n",
       "      <th>Jharkhand_Ranchi</th>\n",
       "      <th>Jharkhand_Sahibganj</th>\n",
       "      <th>Jharkhand_Saraikela-kharsawan</th>\n",
       "      <th>Jharkhand_Simdega</th>\n",
       "      <th>Karnataka_Bagalkot</th>\n",
       "      <th>Karnataka_Bangalore</th>\n",
       "      <th>Jharkhand_Ramgarh</th>\n",
       "      <th>Nct Of Delhi</th>\n",
       "    </tr>\n",
       "    <tr>\n",
       "      <th>Year</th>\n",
       "      <th>Monsoon</th>\n",
       "      <th></th>\n",
       "      <th></th>\n",
       "      <th></th>\n",
       "      <th></th>\n",
       "      <th></th>\n",
       "      <th></th>\n",
       "      <th></th>\n",
       "      <th></th>\n",
       "      <th></th>\n",
       "      <th></th>\n",
       "      <th></th>\n",
       "      <th></th>\n",
       "      <th></th>\n",
       "      <th></th>\n",
       "    </tr>\n",
       "  </thead>\n",
       "  <tbody>\n",
       "    <tr>\n",
       "      <th rowspan=\"2\" valign=\"top\">2005</th>\n",
       "      <th>Pre</th>\n",
       "      <td>6.756667</td>\n",
       "      <td>7.420000</td>\n",
       "      <td>8.670769</td>\n",
       "      <td>6.72750</td>\n",
       "      <td>9.020370</td>\n",
       "      <td>10.533846</td>\n",
       "      <td>7.923333</td>\n",
       "      <td>7.617143</td>\n",
       "      <td>7.718222</td>\n",
       "      <td>7.154286</td>\n",
       "      <td>10.305749</td>\n",
       "      <td>11.949565</td>\n",
       "      <td>5.792</td>\n",
       "      <td>10.916882</td>\n",
       "    </tr>\n",
       "    <tr>\n",
       "      <th>Post</th>\n",
       "      <td>4.846667</td>\n",
       "      <td>4.741429</td>\n",
       "      <td>7.010769</td>\n",
       "      <td>4.16750</td>\n",
       "      <td>8.352143</td>\n",
       "      <td>5.499231</td>\n",
       "      <td>5.081333</td>\n",
       "      <td>6.975714</td>\n",
       "      <td>4.434000</td>\n",
       "      <td>4.428571</td>\n",
       "      <td>8.685806</td>\n",
       "      <td>10.447727</td>\n",
       "      <td>4.316</td>\n",
       "      <td>10.448077</td>\n",
       "    </tr>\n",
       "    <tr>\n",
       "      <th rowspan=\"2\" valign=\"top\">2006</th>\n",
       "      <th>Pre</th>\n",
       "      <td>7.000000</td>\n",
       "      <td>6.281429</td>\n",
       "      <td>7.587692</td>\n",
       "      <td>6.93750</td>\n",
       "      <td>9.514815</td>\n",
       "      <td>9.240000</td>\n",
       "      <td>6.262000</td>\n",
       "      <td>7.232857</td>\n",
       "      <td>8.066667</td>\n",
       "      <td>6.460000</td>\n",
       "      <td>10.305749</td>\n",
       "      <td>11.364762</td>\n",
       "      <td>5.718</td>\n",
       "      <td>11.204151</td>\n",
       "    </tr>\n",
       "    <tr>\n",
       "      <th>Post</th>\n",
       "      <td>3.273333</td>\n",
       "      <td>3.021429</td>\n",
       "      <td>5.496923</td>\n",
       "      <td>3.86250</td>\n",
       "      <td>8.352143</td>\n",
       "      <td>5.499231</td>\n",
       "      <td>3.429333</td>\n",
       "      <td>2.915714</td>\n",
       "      <td>3.438333</td>\n",
       "      <td>3.685714</td>\n",
       "      <td>8.685806</td>\n",
       "      <td>10.447727</td>\n",
       "      <td>3.222</td>\n",
       "      <td>10.736681</td>\n",
       "    </tr>\n",
       "    <tr>\n",
       "      <th rowspan=\"2\" valign=\"top\">2007</th>\n",
       "      <th>Pre</th>\n",
       "      <td>7.828333</td>\n",
       "      <td>7.407143</td>\n",
       "      <td>7.134615</td>\n",
       "      <td>5.87875</td>\n",
       "      <td>9.693333</td>\n",
       "      <td>9.862308</td>\n",
       "      <td>6.740000</td>\n",
       "      <td>8.674286</td>\n",
       "      <td>8.333333</td>\n",
       "      <td>6.400000</td>\n",
       "      <td>9.896552</td>\n",
       "      <td>11.949565</td>\n",
       "      <td>6.750</td>\n",
       "      <td>11.564304</td>\n",
       "    </tr>\n",
       "    <tr>\n",
       "      <th>Post</th>\n",
       "      <td>3.145000</td>\n",
       "      <td>5.040000</td>\n",
       "      <td>4.421538</td>\n",
       "      <td>3.60625</td>\n",
       "      <td>7.531852</td>\n",
       "      <td>3.915385</td>\n",
       "      <td>3.081333</td>\n",
       "      <td>2.915714</td>\n",
       "      <td>5.406667</td>\n",
       "      <td>3.722857</td>\n",
       "      <td>7.579667</td>\n",
       "      <td>11.949565</td>\n",
       "      <td>5.842</td>\n",
       "      <td>11.373361</td>\n",
       "    </tr>\n",
       "    <tr>\n",
       "      <th rowspan=\"2\" valign=\"top\">2008</th>\n",
       "      <th>Pre</th>\n",
       "      <td>6.465000</td>\n",
       "      <td>6.848571</td>\n",
       "      <td>7.134615</td>\n",
       "      <td>6.05750</td>\n",
       "      <td>8.180357</td>\n",
       "      <td>8.760769</td>\n",
       "      <td>7.030000</td>\n",
       "      <td>6.461429</td>\n",
       "      <td>7.866667</td>\n",
       "      <td>5.947143</td>\n",
       "      <td>9.824333</td>\n",
       "      <td>11.949565</td>\n",
       "      <td>7.540</td>\n",
       "      <td>11.832150</td>\n",
       "    </tr>\n",
       "    <tr>\n",
       "      <th>Post</th>\n",
       "      <td>4.075000</td>\n",
       "      <td>5.040000</td>\n",
       "      <td>4.979231</td>\n",
       "      <td>3.93375</td>\n",
       "      <td>7.506429</td>\n",
       "      <td>3.900000</td>\n",
       "      <td>4.200667</td>\n",
       "      <td>4.805000</td>\n",
       "      <td>4.323333</td>\n",
       "      <td>3.437143</td>\n",
       "      <td>8.145667</td>\n",
       "      <td>11.008261</td>\n",
       "      <td>5.200</td>\n",
       "      <td>11.172885</td>\n",
       "    </tr>\n",
       "    <tr>\n",
       "      <th rowspan=\"2\" valign=\"top\">2009</th>\n",
       "      <th>Pre</th>\n",
       "      <td>7.598333</td>\n",
       "      <td>6.535714</td>\n",
       "      <td>7.484615</td>\n",
       "      <td>6.31250</td>\n",
       "      <td>8.898929</td>\n",
       "      <td>10.234615</td>\n",
       "      <td>6.715333</td>\n",
       "      <td>5.911250</td>\n",
       "      <td>7.171667</td>\n",
       "      <td>7.007143</td>\n",
       "      <td>9.561667</td>\n",
       "      <td>12.911667</td>\n",
       "      <td>6.632</td>\n",
       "      <td>12.007952</td>\n",
       "    </tr>\n",
       "    <tr>\n",
       "      <th>Post</th>\n",
       "      <td>5.391667</td>\n",
       "      <td>5.151429</td>\n",
       "      <td>6.992308</td>\n",
       "      <td>3.85750</td>\n",
       "      <td>6.646786</td>\n",
       "      <td>5.213077</td>\n",
       "      <td>4.066667</td>\n",
       "      <td>4.515000</td>\n",
       "      <td>4.321667</td>\n",
       "      <td>4.605714</td>\n",
       "      <td>5.721333</td>\n",
       "      <td>11.812083</td>\n",
       "      <td>4.812</td>\n",
       "      <td>11.320349</td>\n",
       "    </tr>\n",
       "  </tbody>\n",
       "</table>\n",
       "</div>"
      ],
      "text/plain": [
       "              Jharkhand_Lohardaga  Jharkhand_Pakur  Jharkhand_Palamu  \\\n",
       "Year Monsoon                                                           \n",
       "2005 Pre                 6.756667         7.420000          8.670769   \n",
       "     Post                4.846667         4.741429          7.010769   \n",
       "2006 Pre                 7.000000         6.281429          7.587692   \n",
       "     Post                3.273333         3.021429          5.496923   \n",
       "2007 Pre                 7.828333         7.407143          7.134615   \n",
       "     Post                3.145000         5.040000          4.421538   \n",
       "2008 Pre                 6.465000         6.848571          7.134615   \n",
       "     Post                4.075000         5.040000          4.979231   \n",
       "2009 Pre                 7.598333         6.535714          7.484615   \n",
       "     Post                5.391667         5.151429          6.992308   \n",
       "\n",
       "              Jharkhand_Pashchimi Singhbhum  Karnataka_Koppal  \\\n",
       "Year Monsoon                                                    \n",
       "2005 Pre                            6.72750          9.020370   \n",
       "     Post                           4.16750          8.352143   \n",
       "2006 Pre                            6.93750          9.514815   \n",
       "     Post                           3.86250          8.352143   \n",
       "2007 Pre                            5.87875          9.693333   \n",
       "     Post                           3.60625          7.531852   \n",
       "2008 Pre                            6.05750          8.180357   \n",
       "     Post                           3.93375          7.506429   \n",
       "2009 Pre                            6.31250          8.898929   \n",
       "     Post                           3.85750          6.646786   \n",
       "\n",
       "              Jharkhand_Purbi Singhbhum  Jharkhand_Ranchi  \\\n",
       "Year Monsoon                                                \n",
       "2005 Pre                      10.533846          7.923333   \n",
       "     Post                      5.499231          5.081333   \n",
       "2006 Pre                       9.240000          6.262000   \n",
       "     Post                      5.499231          3.429333   \n",
       "2007 Pre                       9.862308          6.740000   \n",
       "     Post                      3.915385          3.081333   \n",
       "2008 Pre                       8.760769          7.030000   \n",
       "     Post                      3.900000          4.200667   \n",
       "2009 Pre                      10.234615          6.715333   \n",
       "     Post                      5.213077          4.066667   \n",
       "\n",
       "              Jharkhand_Sahibganj  Jharkhand_Saraikela-kharsawan  \\\n",
       "Year Monsoon                                                       \n",
       "2005 Pre                 7.617143                       7.718222   \n",
       "     Post                6.975714                       4.434000   \n",
       "2006 Pre                 7.232857                       8.066667   \n",
       "     Post                2.915714                       3.438333   \n",
       "2007 Pre                 8.674286                       8.333333   \n",
       "     Post                2.915714                       5.406667   \n",
       "2008 Pre                 6.461429                       7.866667   \n",
       "     Post                4.805000                       4.323333   \n",
       "2009 Pre                 5.911250                       7.171667   \n",
       "     Post                4.515000                       4.321667   \n",
       "\n",
       "              Jharkhand_Simdega  Karnataka_Bagalkot  Karnataka_Bangalore  \\\n",
       "Year Monsoon                                                               \n",
       "2005 Pre               7.154286           10.305749            11.949565   \n",
       "     Post              4.428571            8.685806            10.447727   \n",
       "2006 Pre               6.460000           10.305749            11.364762   \n",
       "     Post              3.685714            8.685806            10.447727   \n",
       "2007 Pre               6.400000            9.896552            11.949565   \n",
       "     Post              3.722857            7.579667            11.949565   \n",
       "2008 Pre               5.947143            9.824333            11.949565   \n",
       "     Post              3.437143            8.145667            11.008261   \n",
       "2009 Pre               7.007143            9.561667            12.911667   \n",
       "     Post              4.605714            5.721333            11.812083   \n",
       "\n",
       "              Jharkhand_Ramgarh  Nct Of Delhi  \n",
       "Year Monsoon                                   \n",
       "2005 Pre                  5.792     10.916882  \n",
       "     Post                 4.316     10.448077  \n",
       "2006 Pre                  5.718     11.204151  \n",
       "     Post                 3.222     10.736681  \n",
       "2007 Pre                  6.750     11.564304  \n",
       "     Post                 5.842     11.373361  \n",
       "2008 Pre                  7.540     11.832150  \n",
       "     Post                 5.200     11.172885  \n",
       "2009 Pre                  6.632     12.007952  \n",
       "     Post                 4.812     11.320349  "
      ]
     },
     "execution_count": 46,
     "metadata": {},
     "output_type": "execute_result"
    }
   ],
   "source": [
    "D.loc[ds].T.head(10)"
   ]
  },
  {
   "cell_type": "code",
   "execution_count": 47,
   "metadata": {},
   "outputs": [],
   "source": [
    "D.to_csv('../Data/Districts.csv')"
   ]
  }
 ],
 "metadata": {
  "kernelspec": {
   "display_name": "Python 3",
   "language": "python",
   "name": "python3"
  },
  "language_info": {
   "codemirror_mode": {
    "name": "ipython",
    "version": 3
   },
   "file_extension": ".py",
   "mimetype": "text/x-python",
   "name": "python",
   "nbconvert_exporter": "python",
   "pygments_lexer": "ipython3",
   "version": "3.7.4"
  }
 },
 "nbformat": 4,
 "nbformat_minor": 2
}
